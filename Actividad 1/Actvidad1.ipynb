{
 "cells": [
  {
   "cell_type": "markdown",
   "metadata": {},
   "source": [
    "# Actividad 1 - Greedy Knapsack Problem\n",
    "\n",
    "### Algoritmo genético Problema de la mochila \n",
    "\n",
    "- Luis Maximiliano López Ramírez Matricula: A08833321\n",
    "- Annete Pamela Ruiz Abreu Matricula: A01423595\n",
    "-  Andrés Navarro Matricula: A00833287\n",
    "-  Andrea Axel Hernández Galgani Matricula: A00835225\n",
    "- Jorge Raúl Rocha López Matricula: A01740816"
   ]
  },
  {
   "cell_type": "markdown",
   "metadata": {},
   "source": [
    "1. Un armador 8ene un carguero con capacidad de hasta 700 toneladas. El carguero transporta\n",
    "contenedores de diferentes pesos para una determinada ruta. En la ruta actual el carguero\n",
    "puede transportar algunos de los siguientes contenedores:\n",
    "\n",
    "\\[\n",
    "\\begin{array}{|c|c|c|c|c|c|c|c|c|c|c|c|}\n",
    "\\hline\n",
    "\\textbf{Contenedor} & c_1 & c_2 & c_3 & c_4 & c_5 & c_6 & c_7 & c_8 & c_9 & c_{10} \\\\ \\hline\n",
    "\\textbf{Peso [ton]} & 100 & 155 & 50  & 112 & 70  & 80  & 60  & 118 & 110 & 55  \\\\ \\hline\n",
    "\\textbf{Beneficio [\\$ /ton]} & 1741 & 1622 & 1016 & 1264 & 1305 & 1389 & 1797 & 1330 & 1559 & 1578 \\\\ \\hline\n",
    "\\end{array}\n",
    "\\]\n",
    "\n"
   ]
  },
  {
   "cell_type": "markdown",
   "metadata": {},
   "source": [
    "El analista de la empresa del armador desea determinar el envío (conjunto de contene-\n",
    "dores) que maximiza el beneficio."
   ]
  },
  {
   "cell_type": "markdown",
   "metadata": {},
   "source": []
  }
 ],
 "metadata": {
  "language_info": {
   "name": "python"
  }
 },
 "nbformat": 4,
 "nbformat_minor": 2
}
