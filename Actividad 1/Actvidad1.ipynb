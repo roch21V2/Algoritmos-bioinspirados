{
 "cells": [
  {
   "cell_type": "markdown",
   "metadata": {},
   "source": [
    "# Actividad 1 - Greedy Knapsack Problem\n",
    "\n",
    "### Algoritmo Greedy Problema de la mochila \n",
    "\n",
    "- Luis Maximiliano López Ramírez Matricula: A08833321\n",
    "- Annete Pamela Ruiz Abreu Matricula: A01423595\n",
    "-  Andrés Navarro Matricula: A00833287\n",
    "-  Andrea Axel Hernández Galgani Matricula: A00835225\n",
    "- Jorge Raúl Rocha López Matricula: A01740816"
   ]
  },
  {
   "cell_type": "markdown",
   "metadata": {},
   "source": [
    "### Contexto del Problema de la Mochila (Knapsack Problem)\n",
    "\n",
    "El **problema de la mochila** es un problema de optimización donde se busca maximizar el valor total de los objetos seleccionados sin exceder una capacidad máxima.\n",
    "\n",
    "### Descripción:\n",
    "- Tienes una mochila con una **capacidad máxima** (peso que puede cargar).\n",
    "- Hay **N objetos**, cada uno con:\n",
    "  - Un **peso** específico.\n",
    "  - Un **beneficio** o **valor** específico.\n",
    "\n",
    "### Objetivo:\n",
    "Seleccionar un subconjunto de objetos para que:\n",
    "- La suma de los pesos no exceda la capacidad de la mochila.\n",
    "- El beneficio total sea máximo.\n",
    "\n",
    "\n",
    "### Contexto del Algoritmo Greedy (codicioso)\n",
    "\n",
    "En este caso, aplicamos el algoritmo **Greedy** para el **Problema de la Mochila 0-1**, donde **no se permiten fracciones de objetos**. El algoritmo selecciona los objetos según la **razón beneficio/peso** en orden descendente, eligiendo los objetos con la mejor relación hasta que no se pueda añadir más sin exceder la capacidad máxima.\n",
    "\n",
    "### Pasos:\n",
    "1. **Ordenar los objetos** por la razón **beneficio/peso** (de mayor a menor).\n",
    "2. **Seleccionar objetos**: Añadir los objetos a la mochila hasta que no pueda agregar más sin exceder la capacidad.\n",
    "3. El beneficio total se calcula sumando el beneficio de los objetos seleccionados.\n",
    "\n",
    "El siguiente código implementa este algoritmo:"
   ]
  },
  {
   "cell_type": "markdown",
   "metadata": {},
   "source": [
    "1. Un armador tiene un carguero con capacidad de hasta 700 toneladas. El carguero transporta\n",
    "contenedores de diferentes pesos para una determinada ruta. En la ruta actual el carguero\n",
    "puede transportar algunos de los siguientes contenedores:\n",
    "\n",
    "\\[\n",
    "\\begin{array}{|c|c|c|c|c|c|c|c|c|c|c|c|}\n",
    "\\hline\n",
    "\\textbf{Contenedor} & c_1 & c_2 & c_3 & c_4 & c_5 & c_6 & c_7 & c_8 & c_9 & c_{10} \\\\ \\hline\n",
    "\\textbf{Peso [ton]} & 100 & 155 & 50  & 112 & 70  & 80  & 60  & 118 & 110 & 55  \\\\ \\hline\n",
    "\\textbf{Beneficio [\\$ /ton]} & 1741 & 1622 & 1016 & 1264 & 1305 & 1389 & 1797 & 1330 & 1559 & 1578 \\\\ \\hline\n",
    "\\end{array}\n",
    "\\]\n",
    "\n"
   ]
  },
  {
   "cell_type": "markdown",
   "metadata": {},
   "source": [
    "El analista de la empresa del armador desea determinar el envío (conjunto de contene-\n",
    "dores) que maximiza el beneficio."
   ]
  },
  {
   "cell_type": "code",
   "execution_count": 9,
   "metadata": {},
   "outputs": [],
   "source": [
    "contenedores ={\n",
    "    1: (100, 1741),\n",
    "    2: (155,1622),\n",
    "    3:(50, 1016),\n",
    "    4:(112,1264),\n",
    "    5:(70, 1305),\n",
    "    6:(80, 1389),\n",
    "    7:(60,1797),\n",
    "    8:(118, 1330),\n",
    "    9:(110,1559),\n",
    "    10:(55,1578)\n",
    "}\n",
    "\n",
    "capacidad = 700\n",
    "\n",
    "def Greedy(contenedores, capacidad):\n",
    "    contenedores = sorted(contenedores.items(), key=lambda x: x[1][1], reverse=True)\n",
    "    solucion = []\n",
    "    peso = 0\n",
    "    valor = 0\n",
    "    for i in contenedores:\n",
    "        if peso + i[1][0] <= capacidad:\n",
    "            solucion.append(i[0])\n",
    "            peso += i[1][0]\n",
    "            valor += i[1][1]\n",
    "    return solucion, peso, valor"
   ]
  },
  {
   "cell_type": "code",
   "execution_count": 10,
   "metadata": {},
   "outputs": [
    {
     "name": "stdout",
     "output_type": "stream",
     "text": [
      "Solución:  [7, 1, 2, 10, 9, 6, 8]\n",
      "Peso:  678\n",
      "Beneficio:  11016\n"
     ]
    }
   ],
   "source": [
    "solucion, peso, beneficio = Greedy(contenedores, capacidad)\n",
    "\n",
    "print(\"Solución: \", solucion)\n",
    "print(\"Peso: \", peso)\n",
    "print(\"Beneficio: \", beneficio)\n"
   ]
  },
  {
   "cell_type": "markdown",
   "metadata": {},
   "source": [
    "2. Al pasar del 8empo surge un nuevo pedido de embarco, teniendo como información\n",
    "\n",
    "\\[\n",
    "\\begin{array}{|c|c|c|c|c|c|c|c|c|c|c|c|c|c|c|c|c|c|c|c|c|}\n",
    "\\hline\n",
    "\\textbf{Contenedor} & c_1 & c_2 & c_3 & c_4 & c_5 & c_6 & c_7 & c_8 & c_9 & c_{10} & c_{11} & c_{12} & c_{13} & c_{14} & c_{15} & c_{16} & c_{17} & c_{18} & c_{19} & c_{20} \\\\ \\hline\n",
    "\\textbf{Peso [ton]} & 61  & 58  & 92  & 50  & 108 & 83  & 93  & 101 & 54  & 50  & 72  & 51  & 100 & 108 & 91  & 112 & 66  & 58  & 110 & 73  \\\\ \\hline\n",
    "\\textbf{Beneficio [\\$/ton]} & 1100 & 1147 & 1442 & 1591 & 1078 & 1385 & 1777 & 1196 & 1753 & 1371 & 1517 & 1675 & 1193 & 1177 & 1365 & 1143 & 1314 & 1526 & 1470 & 1605 \\\\ \\hline\n",
    "\\end{array}\n",
    "\\]\n",
    "\n",
    "El analista de la empresa del armador desea determinar el envío (conjunto de contene-\n",
    "dores) que maximiza el beneficio.\n"
   ]
  },
  {
   "cell_type": "code",
   "execution_count": 14,
   "metadata": {},
   "outputs": [],
   "source": [
    "# Diccionario con datos de contenedores\n",
    "contenedores = {\n",
    "    1: (61, 1100),\n",
    "    2: (58, 1147),\n",
    "    3: (92, 1442),\n",
    "    4: (50, 1591),\n",
    "    5: (108, 1078),\n",
    "    6: (83, 1385),\n",
    "    7: (93, 1777),\n",
    "    8: (101, 1196),\n",
    "    9: (54, 1753),\n",
    "    10: (50, 1371),\n",
    "    11: (72, 1517),\n",
    "    12: (51, 1675),\n",
    "    13: (100, 1193),\n",
    "    14: (108, 1177),\n",
    "    15: (91, 1365),\n",
    "    16: (112, 1143),\n",
    "    17: (66, 1314),\n",
    "    18: (58, 1526),\n",
    "    19: (110, 1470),\n",
    "    20: (73, 1605)\n",
    "}\n",
    "\n",
    "\n",
    "\n"
   ]
  },
  {
   "cell_type": "code",
   "execution_count": 15,
   "metadata": {},
   "outputs": [],
   "source": [
    "solucion, peso, beneficio = Greedy(contenedores, capacidad)"
   ]
  },
  {
   "cell_type": "code",
   "execution_count": 16,
   "metadata": {},
   "outputs": [
    {
     "name": "stdout",
     "output_type": "stream",
     "text": [
      "Solución:  [7, 9, 12, 20, 4, 18, 11, 19, 3]\n",
      "Peso:  653\n",
      "Beneficio:  14356\n"
     ]
    }
   ],
   "source": [
    "print(\"Solución: \", solucion)\n",
    "print(\"Peso: \", peso)\n",
    "print(\"Beneficio: \", beneficio)\n"
   ]
  }
 ],
 "metadata": {
  "kernelspec": {
   "display_name": ".venv",
   "language": "python",
   "name": "python3"
  },
  "language_info": {
   "codemirror_mode": {
    "name": "ipython",
    "version": 3
   },
   "file_extension": ".py",
   "mimetype": "text/x-python",
   "name": "python",
   "nbconvert_exporter": "python",
   "pygments_lexer": "ipython3",
   "version": "3.10.2"
  }
 },
 "nbformat": 4,
 "nbformat_minor": 2
}
