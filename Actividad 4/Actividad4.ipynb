{
 "cells": [
  {
   "cell_type": "markdown",
   "metadata": {},
   "source": [
    "## Actividad 4 - Genetic Algorithm for the Knapsack Problem\n",
    "\n",
    "### Genetic Algorithm\n",
    "\n",
    "Team members:\n",
    "\n",
    "- Luis Maximiliano López Ramírez Matricula: A08833321\n",
    "- Annete Pamela Ruiz Abreu Matricula: A01423595\n",
    "- Andrés Navarro Matricula: A00833287\n",
    "- Andrea Axel Hernández Galgani Matricula: A00835225\n",
    "- Jorge Raúl Rocha López Matricula: A01740816\n"
   ]
  },
  {
   "cell_type": "markdown",
   "metadata": {},
   "source": [
    "### Context and how it works:\n",
    "\n",
    "Genetic algorithms simulate the natural selection process, in which individuals (the solutions) \"compete\" to survive and improve over time through generations. The steps are:\n",
    "\n",
    "\n",
    "- Initial Population: It starts with random solutions (individuals)\n",
    "Selection: We have a function to evaluate how good a solution is (fitness). The best solutions are more likely to be selected and create a new generation.\n",
    "Crossover: The selected solutions are combined to form new solutions. This process simulates reproduction, combining the genes of the parents to create sons.\n",
    "- Mutation: With a low probability the solutions can experiment with modifications (mutations) to introduce variability.\n",
    "- Replace: The new solutions replace the worst solutions of the population, and the process repeats itself."
   ]
  },
  {
   "cell_type": "markdown",
   "metadata": {},
   "source": [
    "1. Un armador tiene un carguero con capacidad de hasta 800 toneladas. El carguero\n",
    "transporta contenedores de diferentes pesos para una determinada ruta. En la ruta\n",
    "actual el carguero puede transportar algunos de los siguientes contenedores:\n",
    "\n",
    "\n",
    "\\[\n",
    "\\begin{array}{|c|c|c|c|c|c|c|c|c|c|c|c|}\n",
    "\\hline\n",
    "\\textbf{Contenedor} & c1 & c2 & c3 & c4 & c5 & c6 & c7 & c8 & c9 & c10 \\\\\n",
    "\\hline\n",
    "\\textbf{Peso [ton]} & 61 & 58 & 92 & 50 & 108 & 83 & 93 & 101 & 54 & 50 \\\\\n",
    "\\hline\n",
    "\\textbf{Beneficio [\\$]} & 1100 & 1147 & 1442 & 1591 & 1078 & 1385 & 1777 & 1196 & 1753 & 1371 \\\\\n",
    "\\hline\n",
    "\\textbf{Contenedor} & c11 & c12 & c13 & c14 & c15 & c16 & c17 & c18 & c19 & c20 \\\\\n",
    "\\hline\n",
    "\\textbf{Peso [ton]} & 72 & 51 & 100 & 108 & 91 & 112 & 66 & 58 & 110 & 73 \\\\\n",
    "\\hline\n",
    "\\textbf{Beneficio [\\$]} & 1517 & 1675 & 1193 & 1177 & 1365 & 1143 & 1314 & 1526 & 1470 & 1605 \\\\\n",
    "\\hline\n",
    "\\end{array}\n",
    "\\]\n"
   ]
  },
  {
   "cell_type": "markdown",
   "metadata": {},
   "source": [
    "El analista de la empresa del armador desea determinar el env ́ıo (conjunto de contene-\n",
    "dores) que maximiza el beneficio."
   ]
  },
  {
   "cell_type": "code",
   "execution_count": 47,
   "metadata": {},
   "outputs": [],
   "source": [
    "# Importing the required libraries\n",
    "import time \n",
    "import random \n",
    "\n",
    "# Diccionario de contenedores con el formato {número: (peso, beneficio)}\n",
    "contenedores = {\n",
    "    1: (61, 1100),\n",
    "    2: (58, 1147),\n",
    "    3: (92, 1442),\n",
    "    4: (50, 1591),\n",
    "    5: (108, 1078),\n",
    "    6: (83, 1385),\n",
    "    7: (93, 1777),\n",
    "    8: (101, 1196),\n",
    "    9: (54, 1753),\n",
    "    10: (50, 1371),\n",
    "    11: (72, 1517),\n",
    "    12: (51, 1675),\n",
    "    13: (100, 1193),\n",
    "    14: (108, 1177),\n",
    "    15: (91, 1365),\n",
    "    16: (112, 1143),\n",
    "    17: (66, 1314),\n",
    "    18: (58, 1526),\n",
    "    19: (110, 1470),\n",
    "    20: (73, 1605)\n",
    "}\n",
    "\n",
    "max_weight = 800\n",
    "\n",
    "class GeneticAlgorithm():\n",
    "    def __init__(self,data_dic, max_weight, population_size, n_crossover, mutation_rate, n_generations):\n",
    "        self.data_dic = data_dic\n",
    "        self.max_weight = max_weight\n",
    "        self.population_size = population_size\n",
    "        self.n_crossover = n_crossover\n",
    "        self.mutation_rate = mutation_rate\n",
    "        self.n_generations = n_generations\n",
    "        self.population = []\n",
    "        self.weight_population = []\n",
    "        self.benefit_population = []\n",
    "        self.fitness_population = []\n",
    "        self.prob =[]\n",
    "        self.penalty = 15000\n",
    "\n",
    "\n",
    "\n",
    "    def CreateChromosome(self):\n",
    "        chromosome = ''\n",
    "        for i in range(len(self.data_dic)):\n",
    "            chromosome += str(random.randint(0,1))\n",
    "        return chromosome\n",
    "    \n",
    "    def InitializePopulation(self):\n",
    "        counter =0\n",
    "        while counter < self.population_size:\n",
    "            chromosome = self.CreateChromosome()\n",
    "            if self.IsValid(chromosome):\n",
    "                self.population.append(chromosome)\n",
    "                self.weight_population.append(self.CalculateWeight(chromosome))\n",
    "                self.benefit_population.append(self.CalculateBenefit(chromosome))\n",
    "                counter += 1\n",
    "        \n",
    "    \n",
    "    def IsValid(self, chromosome):\n",
    "        weight = 0\n",
    "        for i in range(len(chromosome)):\n",
    "            if chromosome[i] == '1':\n",
    "                weight += self.data_dic[i+1][0]\n",
    "        return weight <= self.max_weight\n",
    "    \n",
    "    def CalculateBenefit(self, chromosome):\n",
    "        fitness = 0\n",
    "        for i in range(len(chromosome)):\n",
    "            if chromosome[i] == '1':\n",
    "                fitness += self.data_dic[i+1][1]\n",
    "        return fitness\n",
    "    \n",
    "    def CalculateBenefitPopulation(self):\n",
    "        for u in range(len(self.population)):\n",
    "            if self.IsValid(self.population[u]):\n",
    "                self.benefit_population[u] = self.CalculateBenefit(self.population[u])\n",
    "            else:\n",
    "                self.benefit_population[u] = self.CalculateBenefit(self.population[u])-self.penalty\n",
    "    \n",
    "    def CalculateWeight(self, chromosome):\n",
    "        weight = 0\n",
    "        for i in range(len(chromosome)):\n",
    "            if chromosome[i] == '1':\n",
    "                weight += self.data_dic[i+1][0]\n",
    "        return weight\n",
    "    \n",
    "    def CalculateWeightPopulation(self):\n",
    "        for u in range(len(self.population)):\n",
    "            self.weight_population[u] = self.CalculateWeight(self.population[u])\n",
    "    \n",
    "    \n",
    "    def CalculateFitnessPopulation(self):\n",
    "        self.fitness_population = []\n",
    "        for i in range(len(self.population)):\n",
    "            self.fitness_population.append(self.benefit_population[i]/sum(self.benefit_population))\n",
    "    \n",
    "    def CalculateProb(self):\n",
    "        self.prob = []\n",
    "        for i in range(len(self.population)):\n",
    "            self.prob.append(self.fitness_population[i]/sum(self.fitness_population))\n",
    "    \n",
    "    def SelectParents(self):\n",
    "        self.parents_index =[]\n",
    "        self.prob_inferior_limit= []\n",
    "        self.prob_superior_limit = []\n",
    "\n",
    "        acum_li =0\n",
    "        acum_ls =0\n",
    "\n",
    "        for i in range(len(self.prob)):\n",
    "            acum_ls += self.prob[i]\n",
    "            self.prob_superior_limit.append(acum_ls)\n",
    "            self.prob_inferior_limit.append(acum_li)\n",
    "            acum_li += self.prob[i]\n",
    "        while True:\n",
    "            x = random.random()\n",
    "\n",
    "            for i in range(len(self.prob)):\n",
    "                if x >= self.prob_inferior_limit[i] and x <= self.prob_superior_limit[i] and i not in self.parents_index:\n",
    "                    self.parents_index.append(i)\n",
    "                    break\n",
    "            if len(self.parents_index) == 2:\n",
    "                break\n",
    "    def CrossOver(self):\n",
    "    \n",
    "        self.sons = []\n",
    "        self.weight_sons = []\n",
    "        self.benefit_sons = []\n",
    "        father = self.population[self.parents_index[0]]\n",
    "        mother = self.population[self.parents_index[1]]\n",
    "\n",
    "        son = father[:self.n_crossover] + mother[self.n_crossover:]\n",
    "        daughter = mother[:self.n_crossover] + father[self.n_crossover:]\n",
    "\n",
    "\n",
    "        # Mutation\n",
    "        son = self.Mutation(son)\n",
    "        daughter = self.Mutation(daughter)\n",
    "\n",
    "        if(self.IsValid(son)):\n",
    "            self.sons.append(son)\n",
    "            self.weight_sons.append(self.CalculateWeight(son))\n",
    "            self.benefit_sons.append(self.CalculateBenefit(son))\n",
    "\n",
    "            # Adding a penalty\n",
    "        if(self.IsValid(son) == False):\n",
    "            self.sons.append(son)\n",
    "            self.weight_sons.append(self.CalculateWeight(son))\n",
    "            self.benefit_sons.append(self.CalculateBenefit(son)-self.penalty)\n",
    "    \n",
    "\n",
    "        if(self.IsValid(daughter)):\n",
    "            self.sons.append(daughter)\n",
    "            self.weight_sons.append(self.CalculateWeight(daughter))\n",
    "            self.benefit_sons.append(self.CalculateBenefit(daughter))\n",
    "            # Adding a penalty\n",
    "        if(self.IsValid(daughter)==False):\n",
    "            self.sons.append(daughter)\n",
    "            self.weight_sons.append(self.CalculateWeight(daughter))\n",
    "            self.benefit_sons.append(self.CalculateBenefit(daughter)-self.penalty)\n",
    "\n",
    "            \n",
    "    \n",
    "    def ReplacePopulation(self):\n",
    "        dic_benefit_pob = {index: benefit for index, benefit in enumerate(self.benefit_population)}\n",
    "        two_least_values = sorted(dic_benefit_pob.items(), key=lambda item: item[1])[:2]\n",
    "        worst_index, worst_benefit = two_least_values[0]\n",
    "        worst_index2, worst_benefit2 = two_least_values[1]\n",
    "\n",
    "        # Replacing the worst solutions with better ones\n",
    "        if self.benefit_sons[0] > worst_benefit:\n",
    "            self.population[worst_index] = self.sons[0]\n",
    "            self.weight_population[worst_index] = self.weight_sons[0]\n",
    "            self.benefit_population[worst_index] = self.benefit_sons[0]\n",
    "\n",
    "        if self.benefit_sons[1] > worst_benefit2:\n",
    "            self.population[worst_index2] = self.sons[1]\n",
    "            self.weight_population[worst_index2] = self.weight_sons[1]\n",
    "            self.benefit_population[worst_index2] = self.benefit_sons[1]\n",
    "\n",
    "    def Mutation(self, chromosome):\n",
    "        mutated_chromosome = ''\n",
    "\n",
    "        for i in range(len(chromosome)):\n",
    "            x = random.random()\n",
    "            if x < self.mutation_rate:\n",
    "                if chromosome[i] == '0':\n",
    "                    mutated_chromosome += '1'\n",
    "                else:\n",
    "                    mutated_chromosome += '0'\n",
    "            else:\n",
    "                mutated_chromosome += chromosome[i]\n",
    "        return mutated_chromosome\n",
    "    \n",
    "    def PrintBestPopulation(self):\n",
    "        index_best_pob = self.benefit_population.index(max(self.benefit_population))\n",
    "\n",
    "        print(f'Best solution: {self.population[index_best_pob]}')\n",
    "        print(f'Best benefit: {self.benefit_population[index_best_pob]}')\n",
    "        print('\\n')\n",
    "\n",
    "    def Run(self):\n",
    "        self.InitializePopulation()\n",
    "\n",
    "        for epoch in range(self.n_generations):\n",
    "            self.CalculateBenefitPopulation()\n",
    "            self.CalculateWeightPopulation()\n",
    "            self.CalculateFitnessPopulation()\n",
    "            self.CalculateProb()\n",
    "            self.SelectParents()\n",
    "            self.CrossOver()\n",
    "            self.ReplacePopulation()\n",
    "            if epoch % 100 == 0:\n",
    "                print(f'Generation: {epoch}')\n",
    "                self.PrintBestPopulation()\n",
    "\n",
    "\n",
    "\n",
    "    \n",
    "    "
   ]
  },
  {
   "cell_type": "code",
   "execution_count": 57,
   "metadata": {},
   "outputs": [],
   "source": [
    "a = GeneticAlgorithm(contenedores, max_weight, 15, 10, 0.5, 1000)"
   ]
  },
  {
   "cell_type": "code",
   "execution_count": 58,
   "metadata": {},
   "outputs": [
    {
     "name": "stdout",
     "output_type": "stream",
     "text": [
      "Generation: 0\n",
      "Best solution: 01010110111100010001\n",
      "Best benefit: 14964\n",
      "\n",
      "\n",
      "Generation: 100\n",
      "Best solution: 01110101101100101001\n",
      "Best benefit: 15990\n",
      "\n",
      "\n",
      "Generation: 200\n",
      "Best solution: 01010110110110001101\n",
      "Best benefit: 16337\n",
      "\n",
      "\n",
      "Generation: 300\n",
      "Best solution: 01010110110110001101\n",
      "Best benefit: 16337\n",
      "\n",
      "\n",
      "Generation: 400\n",
      "Best solution: 01010110110110001101\n",
      "Best benefit: 16337\n",
      "\n",
      "\n",
      "Generation: 500\n",
      "Best solution: 01010110110110001101\n",
      "Best benefit: 16337\n",
      "\n",
      "\n",
      "Generation: 600\n",
      "Best solution: 01010110110110001101\n",
      "Best benefit: 16337\n",
      "\n",
      "\n",
      "Generation: 700\n",
      "Best solution: 01010110110110001101\n",
      "Best benefit: 16337\n",
      "\n",
      "\n",
      "Generation: 800\n",
      "Best solution: 10110010110100101011\n",
      "Best benefit: 16463\n",
      "\n",
      "\n",
      "Generation: 900\n",
      "Best solution: 10110010110100101011\n",
      "Best benefit: 16463\n",
      "\n",
      "\n"
     ]
    }
   ],
   "source": [
    "a.Run()\n"
   ]
  },
  {
   "cell_type": "code",
   "execution_count": 59,
   "metadata": {},
   "outputs": [
    {
     "name": "stdout",
     "output_type": "stream",
     "text": [
      "Popultion: \n"
     ]
    },
    {
     "data": {
      "text/plain": [
       "['00011100111100011101',\n",
       " '10111100110100101100',\n",
       " '01010110110110001101',\n",
       " '10110110011110000101',\n",
       " '01000100111101101101',\n",
       " '10110010100110101101',\n",
       " '10110010110100101011',\n",
       " '01010111111010001001',\n",
       " '01010110111000110101',\n",
       " '11011110101100100100',\n",
       " '11010110101100011100',\n",
       " '00010001111110011101',\n",
       " '01110000111110001101',\n",
       " '10011100111100100110',\n",
       " '01110101101100101001']"
      ]
     },
     "execution_count": 59,
     "metadata": {},
     "output_type": "execute_result"
    }
   ],
   "source": [
    "print('Popultion: ')\n",
    "a.population"
   ]
  },
  {
   "cell_type": "code",
   "execution_count": 60,
   "metadata": {},
   "outputs": [
    {
     "name": "stdout",
     "output_type": "stream",
     "text": [
      "Weight of the population: \n"
     ]
    },
    {
     "data": {
      "text/plain": [
       "[777, 764, 736, 783, 764, 789, 791, 800, 794, 779, 758, 787, 724, 788, 791]"
      ]
     },
     "execution_count": 60,
     "metadata": {},
     "output_type": "execute_result"
    }
   ],
   "source": [
    "print('Weight of the population: ')\n",
    "a.weight_population"
   ]
  },
  {
   "cell_type": "code",
   "execution_count": 61,
   "metadata": {},
   "outputs": [
    {
     "name": "stdout",
     "output_type": "stream",
     "text": [
      "Benefit of the population: \n"
     ]
    },
    {
     "data": {
      "text/plain": [
       "[15958,\n",
       " 15600,\n",
       " 16337,\n",
       " 16182,\n",
       " 15835,\n",
       " 16341,\n",
       " 16463,\n",
       " 15849,\n",
       " 16180,\n",
       " 15914,\n",
       " 15928,\n",
       " 15884,\n",
       " 16134,\n",
       " 15831,\n",
       " 15990]"
      ]
     },
     "execution_count": 61,
     "metadata": {},
     "output_type": "execute_result"
    }
   ],
   "source": [
    "print('Benefit of the population: ')\n",
    "a.benefit_population"
   ]
  },
  {
   "cell_type": "code",
   "execution_count": 55,
   "metadata": {},
   "outputs": [
    {
     "name": "stdout",
     "output_type": "stream",
     "text": [
      "Fitness of the population: \n"
     ]
    },
    {
     "data": {
      "text/plain": [
       "[0.06608695652173913,\n",
       " 0.06596186825380813,\n",
       " 0.06647029153636638,\n",
       " 0.06785836779985877,\n",
       " 0.06640976495510945,\n",
       " 0.06656309896096035,\n",
       " 0.06612730757591043,\n",
       " 0.06636134369010391,\n",
       " 0.0662645011600928,\n",
       " 0.06743871683647736,\n",
       " 0.06643801069302936,\n",
       " 0.06590537677796833,\n",
       " 0.0671118732976899,\n",
       " 0.06552607686875819,\n",
       " 0.06947644507212751]"
      ]
     },
     "execution_count": 55,
     "metadata": {},
     "output_type": "execute_result"
    }
   ],
   "source": [
    "print('Fitness of the population: ')\n",
    "a.fitness_population"
   ]
  },
  {
   "cell_type": "code",
   "execution_count": null,
   "metadata": {},
   "outputs": [],
   "source": []
  }
 ],
 "metadata": {
  "kernelspec": {
   "display_name": "Python 3",
   "language": "python",
   "name": "python3"
  },
  "language_info": {
   "codemirror_mode": {
    "name": "ipython",
    "version": 3
   },
   "file_extension": ".py",
   "mimetype": "text/x-python",
   "name": "python",
   "nbconvert_exporter": "python",
   "pygments_lexer": "ipython3",
   "version": "3.12.3"
  }
 },
 "nbformat": 4,
 "nbformat_minor": 2
}
